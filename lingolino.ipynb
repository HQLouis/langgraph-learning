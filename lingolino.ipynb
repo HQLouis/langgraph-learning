{
 "cells": [
  {
   "metadata": {},
   "cell_type": "markdown",
   "source": "",
   "id": "fd44eb0f99ddcc5e"
  },
  {
   "metadata": {},
   "cell_type": "markdown",
   "source": [
    "# Lingolino Refactored\n",
    "This notebook uses the refactored module structure for better code organization.\n"
   ],
   "id": "b26f2681b8774172"
  },
  {
   "metadata": {
    "ExecuteTime": {
     "end_time": "2025-10-15T15:49:11.104085Z",
     "start_time": "2025-10-15T15:49:10.414621Z"
    }
   },
   "cell_type": "code",
   "source": [
    "# Import required libraries\n",
    "from langchain.chat_models import init_chat_model\n",
    "from dotenv import load_dotenv\n",
    "from langgraph.checkpoint.memory import MemorySaver\n",
    "\n",
    "# Import our custom modules\n",
    "from states import State, BackgroundState\n",
    "from immediate_graph import create_immediate_response_graph, set_config as set_immediate_config\n",
    "from background_graph import create_background_analysis_graph\n",
    "from nodes import set_background_graph\n"
   ],
   "id": "c1bbef3bafaa6495",
   "outputs": [],
   "execution_count": 1
  },
  {
   "cell_type": "code",
   "id": "initial_id",
   "metadata": {
    "collapsed": true,
    "ExecuteTime": {
     "end_time": "2025-10-15T15:49:11.126463Z",
     "start_time": "2025-10-15T15:49:11.119483Z"
    }
   },
   "source": [
    "# Load environment variables\n",
    "load_dotenv()\n"
   ],
   "outputs": [
    {
     "data": {
      "text/plain": [
       "True"
      ]
     },
     "execution_count": 2,
     "metadata": {},
     "output_type": "execute_result"
    }
   ],
   "execution_count": 2
  },
  {
   "metadata": {
    "ExecuteTime": {
     "end_time": "2025-10-15T15:49:11.863289Z",
     "start_time": "2025-10-15T15:49:11.265326Z"
    }
   },
   "cell_type": "code",
   "source": [
    "# Initialize LLM and memory\n",
    "llm = init_chat_model(\"google_genai:gemini-2.0-flash\")\n",
    "memory = MemorySaver()\n"
   ],
   "id": "5720a22976ceb6cd",
   "outputs": [
    {
     "name": "stderr",
     "output_type": "stream",
     "text": [
      "WARNING: All log messages before absl::InitializeLog() is called are written to STDERR\n",
      "E0000 00:00:1760543351.858806  745989 alts_credentials.cc:93] ALTS creds ignored. Not running on GCP and untrusted ALTS is not enabled.\n"
     ]
    }
   ],
   "execution_count": 3
  },
  {
   "metadata": {
    "ExecuteTime": {
     "end_time": "2025-10-15T15:49:11.880310Z",
     "start_time": "2025-10-15T15:49:11.871076Z"
    }
   },
   "cell_type": "code",
   "source": [
    "# Create the graphs\n",
    "# Note: We need to create background graph first, then pass it to immediate graph\n",
    "background_graph = create_background_analysis_graph(llm, memory)\n",
    "\n",
    "# Set the background graph reference for cross-graph communication\n",
    "set_background_graph(background_graph)\n",
    "\n",
    "# Now create the immediate graph with reference to background graph\n",
    "immediate_graph = create_immediate_response_graph(llm, memory, background_graph)\n",
    "\n",
    "print(\"Graphs created successfully!\")\n"
   ],
   "id": "bad79aa83f3167a1",
   "outputs": [
    {
     "name": "stdout",
     "output_type": "stream",
     "text": [
      "Graphs created successfully!\n"
     ]
    }
   ],
   "execution_count": 4
  },
  {
   "metadata": {
    "ExecuteTime": {
     "end_time": "2025-10-15T15:49:12.211510Z",
     "start_time": "2025-10-15T15:49:11.913469Z"
    }
   },
   "cell_type": "code",
   "source": [
    "# Visualize the graphs\n",
    "from IPython.display import Image, display\n",
    "\n",
    "print(\"=== Immediate Response Graph ===\")\n",
    "print(immediate_graph.get_graph().draw_mermaid())\n",
    "display(Image(immediate_graph.get_graph().draw_mermaid_png()))\n",
    "\n",
    "print(\"\\n=== Background Analysis Graph ===\")\n",
    "print(background_graph.get_graph().draw_mermaid())\n",
    "display(Image(background_graph.get_graph().draw_mermaid_png()))\n"
   ],
   "id": "70a2d3eaee1da325",
   "outputs": [
    {
     "name": "stdout",
     "output_type": "stream",
     "text": [
      "=== Immediate Response Graph ===\n",
      "---\n",
      "config:\n",
      "  flowchart:\n",
      "    curve: linear\n",
      "---\n",
      "graph TD;\n",
      "\t__start__(<p>__start__</p>)\n",
      "\tinitialStateLoader(initialStateLoader)\n",
      "\tload_analysis(load_analysis)\n",
      "\tmasterChatbot(masterChatbot)\n",
      "\tformat_response(format_response)\n",
      "\t__end__(<p>__end__</p>)\n",
      "\t__start__ -.-> __end__;\n",
      "\tclassDef default fill:#f2f0ff,line-height:1.2\n",
      "\tclassDef first fill-opacity:0\n",
      "\tclassDef last fill:#bfb6fc\n",
      "\n"
     ]
    },
    {
     "data": {
      "image/png": "[encoded data removed]",
      "text/plain": [
       "<IPython.core.display.Image object>"
      ]
     },
     "metadata": {},
     "output_type": "display_data"
    },
    {
     "name": "stdout",
     "output_type": "stream",
     "text": [
      "\n",
      "=== Background Analysis Graph ===\n",
      "---\n",
      "config:\n",
      "  flowchart:\n",
      "    curve: linear\n",
      "---\n",
      "graph TD;\n",
      "\t__start__(<p>__start__</p>)\n",
      "\tinitialStateLoader(initialStateLoader)\n",
      "\teducationalWorker(educationalWorker)\n",
      "\tstorytellingWorker(storytellingWorker)\n",
      "\t__end__(<p>__end__</p>)\n",
      "\t__start__ -.-> __end__;\n",
      "\tclassDef default fill:#f2f0ff,line-height:1.2\n",
      "\tclassDef first fill-opacity:0\n",
      "\tclassDef last fill:#bfb6fc\n",
      "\n"
     ]
    },
    {
     "data": {
      "image/png": "[encoded data removed]",
      "text/plain": [
       "<IPython.core.display.Image object>"
      ]
     },
     "metadata": {},
     "output_type": "display_data"
    }
   ],
   "execution_count": 5
  },
  {
   "metadata": {
    "ExecuteTime": {
     "end_time": "2025-10-15T15:49:13.970261Z",
     "start_time": "2025-10-15T15:49:12.224442Z"
    }
   },
   "cell_type": "code",
   "source": [
    "# Simulation of first interaction\n",
    "config = {'configurable': {'thread_id': '9'}}\n",
    "set_immediate_config(config)\n",
    "\n",
    "state = immediate_graph.invoke({\n",
    "    \"messages\": [{\"role\": \"user\", \"content\": \"Start\"}],\n",
    "    \"child_id\": \"2\",\n",
    "    \"game_id\": \"0\",\n",
    "}, config=config)\n",
    "\n",
    "print(\"======== Final response ========\")\n",
    "print(state[\"messages\"][-1].content)\n"
   ],
   "id": "5d7dbd7ace0159b8",
   "outputs": [
    {
     "name": "stdout",
     "output_type": "stream",
     "text": [
      "Game loaded: Du bist Lino, ein Teddybär und Erklärbär. Ein Erklärbar ist ganz schlau und kann Kindern ganz viele Sachen erklären. Immer wenn ein Kind eine Frage hat, kann das Kind mit der Frage zu dir kommen. Dann schaut ihr gemeinsam, ob ihr die Frage beantworten könnt.\n",
      "Child profile loaded: Das Kind ist 8 Jahre alt, mag Fussball und Videospiele. Es liest gerne Abenteuerbücher.\n",
      "======== Final response ========\n",
      "Hey there, future explorer! Ready for an adventure? Tell me, what amazing things are you curious about today?\n"
     ]
    }
   ],
   "execution_count": 6
  },
  {
   "metadata": {
    "ExecuteTime": {
     "end_time": "2025-10-15T15:49:13.985219Z",
     "start_time": "2025-10-15T15:49:13.980544Z"
    }
   },
   "cell_type": "code",
   "source": [
    "# Async processing function\n",
    "import asyncio\n",
    "\n",
    "async def process_user_input(user_input, config):\n",
    "    \"\"\"\n",
    "    Process user input with immediate response and background analysis.\n",
    "    \n",
    "    :param user_input: User input message\n",
    "    :param config: Configuration with thread_id\n",
    "    :return: Immediate response result\n",
    "    \"\"\"\n",
    "    # Immediate response task\n",
    "    immediate_task = asyncio.create_task(\n",
    "        immediate_graph.ainvoke(user_input, config)\n",
    "    )\n",
    "    \n",
    "    # Wait for the immediate response\n",
    "    immediate_result = await immediate_task\n",
    "    \n",
    "    # Start the background analysis after the immediate response\n",
    "    background_input = {\n",
    "        \"child_profile\": immediate_result[\"child_profile\"],\n",
    "        \"game_description\": immediate_result[\"game_description\"],\n",
    "        \"messages\": immediate_result[\"messages\"],\n",
    "    }\n",
    "    background_config = {\n",
    "        \"configurable\": {\n",
    "            \"thread_id\": config[\"configurable\"][\"thread_id\"] + \"_analysis\"\n",
    "        }\n",
    "    }\n",
    "    background_task = asyncio.create_task(\n",
    "        background_graph.ainvoke(background_input, background_config)\n",
    "    )\n",
    "    \n",
    "    # Background task runs in background (Fire & Forget)\n",
    "    # No await - continues running in background\n",
    "    \n",
    "    return immediate_result\n"
   ],
   "id": "c016818d4aa9f3b7",
   "outputs": [],
   "execution_count": 7
  },
  {
   "metadata": {
    "ExecuteTime": {
     "end_time": "2025-10-15T15:50:46.858494Z",
     "start_time": "2025-10-15T15:50:36.208231Z"
    }
   },
   "cell_type": "code",
   "source": [
    "# Interactive chat session\n",
    "config = {'configurable': {'thread_id': '9'}}\n",
    "in_message = input(\"You: \")\n",
    "\n",
    "try:\n",
    "    result = await process_user_input({\"messages\": [{\"role\": \"user\", \"content\": in_message}]}, config)\n",
    "except SyntaxError:\n",
    "    result = asyncio.run(process_user_input({\"messages\": [{\"role\": \"user\", \"content\": in_message}]}, config))\n",
    "\n",
    "print(result[\"messages\"][-1].content)\n"
   ],
   "id": "23550dc915cc7d7e",
   "outputs": [
    {
     "name": "stdout",
     "output_type": "stream",
     "text": [
      "Okay explorer, let's leave no stone unturned. You and Lino start searching every corner of the football field.\n",
      "\n",
      "You check behind the goalposts first. Nothing but a few lost water bottles and some very enthusiastic ants.\n",
      "\n",
      "Then, you and Lino search the sidelines, carefully peeking under the benches where the football players sit. You find some old candy wrappers and a very surprised looking frog, but still no sign of the football.\n",
      "\n",
      "You even search the groundskeeper's shed, but all you find are lawnmowers and bags of fertilizer. Whew, that was a stinky adventure.\n",
      "\n",
      "After searching high and low, it seems the football field is not where the ball is.\n",
      "\n",
      "Lino looks a little disappointed, but then you remember the muddy map. Maybe that's the best clue we have.\n",
      "\n",
      "Do you want to go back to the center of the field and try to order the places on the map, or do you have another idea where Lino might have hidden the football?\n"
     ]
    }
   ],
   "execution_count": 11
  },
  {
   "metadata": {},
   "cell_type": "code",
   "outputs": [],
   "execution_count": null,
   "source": "",
   "id": "2e8996033fde5334"
  }
 ],
 "metadata": {
  "kernelspec": {
   "display_name": "Python 3",
   "language": "python",
   "name": "python3"
  },
  "language_info": {
   "codemirror_mode": {
    "name": "ipython",
    "version": 2
   },
   "file_extension": ".py",
   "mimetype": "text/x-python",
   "name": "python",
   "nbconvert_exporter": "python",
   "pygments_lexer": "ipython2",
   "version": "2.7.6"
  }
 },
 "nbformat": 4,
 "nbformat_minor": 5
}
