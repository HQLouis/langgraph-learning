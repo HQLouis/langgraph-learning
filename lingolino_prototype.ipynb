{
 "cells": [
  {
   "metadata": {
    "ExecuteTime": {
     "end_time": "2025-10-11T20:29:22.013601Z",
     "start_time": "2025-10-11T20:29:22.010166Z"
    }
   },
   "cell_type": "code",
   "source": [
    "from langchain.chat_models import init_chat_model\n",
    "from typing import Annotated\n",
    "from typing_extensions import TypedDict\n",
    "from langgraph.graph import StateGraph, START, END\n",
    "from langgraph.graph.message import add_messages"
   ],
   "id": "feb73c2af65d1ea2",
   "outputs": [],
   "execution_count": 280
  },
  {
   "metadata": {
    "ExecuteTime": {
     "end_time": "2025-10-11T20:29:22.039598Z",
     "start_time": "2025-10-11T20:29:22.034576Z"
    }
   },
   "cell_type": "code",
   "source": [
    "from dotenv import load_dotenv\n",
    "load_dotenv()"
   ],
   "id": "548a8534cc2d2d86",
   "outputs": [
    {
     "data": {
      "text/plain": [
       "True"
      ]
     },
     "execution_count": 281,
     "metadata": {},
     "output_type": "execute_result"
    }
   ],
   "execution_count": 281
  },
  {
   "metadata": {
    "ExecuteTime": {
     "end_time": "2025-10-11T20:29:22.059887Z",
     "start_time": "2025-10-11T20:29:22.056998Z"
    }
   },
   "cell_type": "code",
   "source": [
    "from langgraph.checkpoint.memory import MemorySaver\n",
    "\n",
    "memory = MemorySaver()"
   ],
   "id": "b0e734d3dc8983fb",
   "outputs": [],
   "execution_count": 282
  },
  {
   "metadata": {
    "ExecuteTime": {
     "end_time": "2025-10-11T20:29:22.083152Z",
     "start_time": "2025-10-11T20:29:22.072032Z"
    }
   },
   "cell_type": "code",
   "source": [
    "class State(TypedDict):\n",
    "    # Messages have the type \"list\". The `add_messages` function\n",
    "    # in the annotation defines how this state key should be updated\n",
    "    # (in this case, it appends messages to the list, rather than overwriting them)\n",
    "    child_id: str\n",
    "    game_id: str\n",
    "    messages: Annotated[list, add_messages]\n",
    "    # TODO LNG: for the inputs below we will test if keeping the list of inputs is useful later. For now go with the simple and promising variant of only having the most recent input in the state.\n",
    "    game_description: str\n",
    "    child_profile: str\n",
    "    story_analysis: str\n",
    "    educational_analysis: str "
   ],
   "id": "c533906188f32276",
   "outputs": [],
   "execution_count": 283
  },
  {
   "metadata": {
    "ExecuteTime": {
     "end_time": "2025-10-13T11:53:01.042107Z",
     "start_time": "2025-10-13T11:53:01.032707Z"
    }
   },
   "cell_type": "code",
   "source": [
    "from typing_extensions import Annotated\n",
    "from langgraph.prebuilt import InjectedState\n",
    "\n",
    "def get_game_by_id(state: Annotated[State, InjectedState]) -> str:\n",
    "    '''Return the game description whose ID lives in state['game_id'] \n",
    "    :param state: state containing game_id\n",
    "    :return: description of game\n",
    "    '''\n",
    "    game_id = state.get(\"game_id\", \"0\")\n",
    "    game = {\n",
    "        \"0\": \"Du bist Lino, ein Teddybär und Erklärbär. Ein Erklärbar ist ganz schlau und kann Kindern ganz viele Sachen erklären. Immer wenn ein Kind eine Frage hat, kann das Kind mit der Frage zu dir kommen. Dann schaut ihr gemeinsam, ob ihr die Frage beantworten könnt.\",\n",
    "    }.get(game_id, \"This is an open world game. You can do anything you want.\")\n",
    "    print(\"Game loaded:\", game)\n",
    "    return game\n",
    "\n",
    "def get_child_profile(state: Annotated[State, InjectedState]) -> str:\n",
    "    '''Return the profile of the child whose ID lives in state['child_id'] \n",
    "    :param state: state containing child_id\n",
    "    :return: profile of child\n",
    "    '''\n",
    "    child_id = state.get(\"child_id\", \"1\")\n",
    "    child_profile = {\n",
    "        \"1\": \"Das Kind ist 5 Jahre alt, mag Dinosaurier und Raketen. Es lernt gerade lesen und schreiben.\",\n",
    "        \"2\": \"Das Kind ist 8 Jahre alt, mag Fussball und Videospiele. Es liest gerne Abenteuerbücher.\",\n",
    "        \"3\": \"Das Kind ist 10 Jahre alt, mag Programmieren und Robotik. Es liest gerne Science-Fiction-Bücher.\",\n",
    "    }.get(child_id, \"This is a child with no specific profile.\")\n",
    "    print(\"Child profile loaded:\", child_profile)\n",
    "    return child_profile\n",
    "\n",
    "tools = [get_game_by_id, get_child_profile] #  TODO LNG: there shall be a split list to have only the relevant tools for each worker. Remove this \"tools\" list afterwards. \n",
    "### Master chatbot ###\n",
    "llm = init_chat_model(\"google_genai:gemini-2.0-flash\")\n",
    "#llm_with_tools = llm.bind_tools([])\n"
   ],
   "id": "5c7acecc9d834c1a",
   "outputs": [
    {
     "name": "stderr",
     "output_type": "stream",
     "text": [
      "E0000 00:00:1760356381.039519 16929006 alts_credentials.cc:93] ALTS creds ignored. Not running on GCP and untrusted ALTS is not enabled.\n"
     ]
    }
   ],
   "execution_count": 331
  },
  {
   "metadata": {
    "ExecuteTime": {
     "end_time": "2025-10-13T11:53:02.119640Z",
     "start_time": "2025-10-13T11:53:02.018402Z"
    }
   },
   "cell_type": "code",
   "source": [
    "from langchain_core.messages import SystemMessage, HumanMessage, AIMessage\n",
    "\n",
    "def masterChatbot(state: State):\n",
    "    system_context = f\"\"\"\n",
    "    You are chatting with a child. Your output shall consider the guidance's and be the direct answer to the child.  Try to keep the story engaging and fun. For that if needed even go into a different direction if the educational analysis suggests that the child is bored.\n",
    "    Use this guidance:\n",
    "    \n",
    "    Story Analysis: {state.get('story_analysis', '')}\n",
    "    Educational Analysis: {state.get('educational_analysis', '')}\n",
    "    \"\"\"\n",
    "    system_message = SystemMessage(content=system_context)\n",
    "    messages = [system_message] + state[\"messages\"]\n",
    "    \n",
    "    return {\"messages\": [llm.invoke(messages)]}\n",
    "\n",
    "educational_prompt = (\n",
    "        \"You are a educational advisor. Analyze the following conversation between an application and a child.\\n\"\n",
    "        \"Provide analysis of:\\n\"\n",
    "        \"1. Child's current emotional state\\n\"\n",
    "        \"2. Level of engagement\\n\"\n",
    "        \"3. Suggestion for what to change in the conversation to increase the engagement if needed\\n\\n\"\n",
    "    )\n",
    "def educationalWorker(state: State):\n",
    "    system_message = SystemMessage(content=educational_prompt)\n",
    "    \n",
    "    # Analyze the conversation without participating in it\n",
    "    conversation_summary = \"\\n\".join([\n",
    "        f\"{msg.type}: {msg.content}\" for msg in state[\"messages\"]\n",
    "    ])\n",
    "    child_profile = state.get('child_profile','')\n",
    "    analysis_message = HumanMessage(\n",
    "        content=f\"Analyze this conversation: {conversation_summary}. Child profile: {child_profile}\"\n",
    "    )\n",
    "    \n",
    "    response = llm.invoke([system_message, analysis_message])\n",
    "    # Store analysis separately from conversation\n",
    "    return {\"educational_analysis\": response.content}\n",
    "\n",
    "\n",
    "storytelling_prompt = (\n",
    "        \"You are a storytelling advisor. Analyze the following conversation between an application and a child.\\n\"\n",
    "        \"Use the available tools to load game context and child profile if needed.\\n\"\n",
    "        \"Provide three next story developments which makes sense to build a fun and engaging story.\\n\\n\"\n",
    "    )\n",
    "def storytellingWorker(state: State):\n",
    "    system_message = SystemMessage(content=storytelling_prompt)\n",
    "    \n",
    "    # Analyze the conversation without participating in it\n",
    "    conversation_summary = \"\\n\".join([\n",
    "        f\"{msg.type}: {msg.content}\" for msg in state[\"messages\"]\n",
    "    ])\n",
    "    child_profile = state.get('child_profile','')\n",
    "    game_description = state.get('game_description','')\n",
    "    analysis_message = HumanMessage(\n",
    "        content=f\"Analyze this conversation: {conversation_summary} Child profile: {child_profile} Game description: {game_description}\"\n",
    "    )\n",
    "    \n",
    "    response = llm.invoke([system_message, analysis_message])\n",
    "    # Store analysis separately from conversation\n",
    "    return {\"story_analysis\": response.content}\n",
    "\n",
    "\n",
    "def format_response(state: State) -> dict:\n",
    "    \"\"\"\n",
    "    Formats the response of the agent to make it suitable for TTS. This shall be the last step before returning the response to the user.\n",
    "    :param state: \n",
    "    :return:  Formatted string of response.\n",
    "    \"\"\"\n",
    "    raw_response = state[\"messages\"][-1].content\n",
    "    formatted = llm.invoke([\n",
    "        SystemMessage(content=(\n",
    "            \"You are a formatting assistant. Format the following text to be suitable \"\n",
    "            \"for TTS. Remove all special characters such as emojis and make it easy to read aloud.\"\n",
    "        )),\n",
    "        HumanMessage(content=raw_response)\n",
    "    ]).content\n",
    "\n",
    "    # Wrap the formatted text in an AIMessage and update \"messages\"\n",
    "    return {\"messages\": [AIMessage(content=formatted)]}\n",
    "    \n",
    "    \n",
    "def initialStateLoader(state: State) -> dict:\n",
    "    \"\"\"\n",
    "    Load initial state values such as game description and child profile based on IDs in the state.\n",
    "    :param state: current state\n",
    "    :return: updated state with game_description and child_profile\n",
    "    \"\"\"\n",
    "    game_description = get_game_by_id(state)\n",
    "    child_profile = get_child_profile(state)\n",
    "    return {\n",
    "        \"game_description\": game_description,\n",
    "        \"child_profile\": child_profile\n",
    "    }\n",
    "\n",
    "def needs_initial_state(state: State) -> str:\n",
    "    if not (state.get(\"game_description\") and state.get(\"child_profile\")):\n",
    "        return \"initialStateLoader\"\n",
    "    return [\"educationalWorker\", \"storytellingWorker\"]\n",
    "\n",
    "\n",
    "builder = StateGraph(State)\n",
    "\n",
    "builder.add_node(initialStateLoader)\n",
    "builder.add_node(masterChatbot)\n",
    "builder.add_node(educationalWorker)\n",
    "builder.add_node(storytellingWorker)\n",
    "builder.add_node(format_response)\n",
    "\n",
    "builder.add_conditional_edges(START, needs_initial_state)\n",
    "builder.add_edge(\"initialStateLoader\", \"educationalWorker\")\n",
    "builder.add_edge(\"initialStateLoader\", \"storytellingWorker\")\n",
    "\n",
    "# builder.add_edge(\"storyTools\", \"storytellingWorker\")\n",
    "# builder.add_edge(\"educational_tools\", \"educationalWorker\")\n",
    "builder.add_edge(\"tools\", \"storytellingWorker\")\n",
    "builder.add_edge(\"tools\", \"educationalWorker\")\n",
    "\n",
    "\n",
    "builder.add_edge(\"educationalWorker\", \"masterChatbot\")\n",
    "builder.add_edge(\"storytellingWorker\", \"masterChatbot\")\n",
    "builder.add_edge(\"masterChatbot\", \"format_response\")\n",
    "builder.add_edge(\"format_response\", END)\n",
    "\n",
    "\n",
    "\n",
    "\n",
    "graph = builder.compile(checkpointer=memory)\n",
    "# graph = builder.compile()\n",
    "\n"
   ],
   "id": "b072ec375b0c8a8e",
   "outputs": [
    {
     "ename": "ValueError",
     "evalue": "Found edge starting at unknown node 'tools'",
     "output_type": "error",
     "traceback": [
      "\u001B[31m---------------------------------------------------------------------------\u001B[39m",
      "\u001B[31mValueError\u001B[39m                                Traceback (most recent call last)",
      "\u001B[36mCell\u001B[39m\u001B[36m \u001B[39m\u001B[32mIn[332]\u001B[39m\u001B[32m, line 127\u001B[39m\n\u001B[32m    121\u001B[39m builder.add_edge(\u001B[33m\"\u001B[39m\u001B[33mmasterChatbot\u001B[39m\u001B[33m\"\u001B[39m, \u001B[33m\"\u001B[39m\u001B[33mformat_response\u001B[39m\u001B[33m\"\u001B[39m)\n\u001B[32m    122\u001B[39m builder.add_edge(\u001B[33m\"\u001B[39m\u001B[33mformat_response\u001B[39m\u001B[33m\"\u001B[39m, END)\n\u001B[32m--> \u001B[39m\u001B[32m127\u001B[39m graph = \u001B[43mbuilder\u001B[49m\u001B[43m.\u001B[49m\u001B[43mcompile\u001B[49m\u001B[43m(\u001B[49m\u001B[43mcheckpointer\u001B[49m\u001B[43m=\u001B[49m\u001B[43mmemory\u001B[49m\u001B[43m)\u001B[49m\n\u001B[32m    128\u001B[39m \u001B[38;5;66;03m# graph = builder.compile()\u001B[39;00m\n",
      "\u001B[36mFile \u001B[39m\u001B[32m~/GIT/langgraph-learning/.venv/lib/python3.13/site-packages/langgraph/graph/state.py:838\u001B[39m, in \u001B[36mStateGraph.compile\u001B[39m\u001B[34m(self, checkpointer, cache, store, interrupt_before, interrupt_after, debug, name)\u001B[39m\n\u001B[32m    835\u001B[39m interrupt_after = interrupt_after \u001B[38;5;129;01mor\u001B[39;00m []\n\u001B[32m    837\u001B[39m \u001B[38;5;66;03m# validate the graph\u001B[39;00m\n\u001B[32m--> \u001B[39m\u001B[32m838\u001B[39m \u001B[38;5;28;43mself\u001B[39;49m\u001B[43m.\u001B[49m\u001B[43mvalidate\u001B[49m\u001B[43m(\u001B[49m\n\u001B[32m    839\u001B[39m \u001B[43m    \u001B[49m\u001B[43minterrupt\u001B[49m\u001B[43m=\u001B[49m\u001B[43m(\u001B[49m\n\u001B[32m    840\u001B[39m \u001B[43m        \u001B[49m\u001B[43m(\u001B[49m\u001B[43minterrupt_before\u001B[49m\u001B[43m \u001B[49m\u001B[38;5;28;43;01mif\u001B[39;49;00m\u001B[43m \u001B[49m\u001B[43minterrupt_before\u001B[49m\u001B[43m \u001B[49m\u001B[43m!=\u001B[49m\u001B[43m \u001B[49m\u001B[33;43m\"\u001B[39;49m\u001B[33;43m*\u001B[39;49m\u001B[33;43m\"\u001B[39;49m\u001B[43m \u001B[49m\u001B[38;5;28;43;01melse\u001B[39;49;00m\u001B[43m \u001B[49m\u001B[43m[\u001B[49m\u001B[43m]\u001B[49m\u001B[43m)\u001B[49m\u001B[43m \u001B[49m\u001B[43m+\u001B[49m\u001B[43m \u001B[49m\u001B[43minterrupt_after\u001B[49m\n\u001B[32m    841\u001B[39m \u001B[43m        \u001B[49m\u001B[38;5;28;43;01mif\u001B[39;49;00m\u001B[43m \u001B[49m\u001B[43minterrupt_after\u001B[49m\u001B[43m \u001B[49m\u001B[43m!=\u001B[49m\u001B[43m \u001B[49m\u001B[33;43m\"\u001B[39;49m\u001B[33;43m*\u001B[39;49m\u001B[33;43m\"\u001B[39;49m\n\u001B[32m    842\u001B[39m \u001B[43m        \u001B[49m\u001B[38;5;28;43;01melse\u001B[39;49;00m\u001B[43m \u001B[49m\u001B[43m[\u001B[49m\u001B[43m]\u001B[49m\n\u001B[32m    843\u001B[39m \u001B[43m    \u001B[49m\u001B[43m)\u001B[49m\n\u001B[32m    844\u001B[39m \u001B[43m\u001B[49m\u001B[43m)\u001B[49m\n\u001B[32m    846\u001B[39m \u001B[38;5;66;03m# prepare output channels\u001B[39;00m\n\u001B[32m    847\u001B[39m output_channels = (\n\u001B[32m    848\u001B[39m     \u001B[33m\"\u001B[39m\u001B[33m__root__\u001B[39m\u001B[33m\"\u001B[39m\n\u001B[32m    849\u001B[39m     \u001B[38;5;28;01mif\u001B[39;00m \u001B[38;5;28mlen\u001B[39m(\u001B[38;5;28mself\u001B[39m.schemas[\u001B[38;5;28mself\u001B[39m.output_schema]) == \u001B[32m1\u001B[39m\n\u001B[32m   (...)\u001B[39m\u001B[32m    855\u001B[39m     ]\n\u001B[32m    856\u001B[39m )\n",
      "\u001B[36mFile \u001B[39m\u001B[32m~/GIT/langgraph-learning/.venv/lib/python3.13/site-packages/langgraph/graph/state.py:765\u001B[39m, in \u001B[36mStateGraph.validate\u001B[39m\u001B[34m(self, interrupt)\u001B[39m\n\u001B[32m    763\u001B[39m \u001B[38;5;28;01mfor\u001B[39;00m source \u001B[38;5;129;01min\u001B[39;00m all_sources:\n\u001B[32m    764\u001B[39m     \u001B[38;5;28;01mif\u001B[39;00m source \u001B[38;5;129;01mnot\u001B[39;00m \u001B[38;5;129;01min\u001B[39;00m \u001B[38;5;28mself\u001B[39m.nodes \u001B[38;5;129;01mand\u001B[39;00m source != START:\n\u001B[32m--> \u001B[39m\u001B[32m765\u001B[39m         \u001B[38;5;28;01mraise\u001B[39;00m \u001B[38;5;167;01mValueError\u001B[39;00m(\u001B[33mf\u001B[39m\u001B[33m\"\u001B[39m\u001B[33mFound edge starting at unknown node \u001B[39m\u001B[33m'\u001B[39m\u001B[38;5;132;01m{\u001B[39;00msource\u001B[38;5;132;01m}\u001B[39;00m\u001B[33m'\u001B[39m\u001B[33m\"\u001B[39m)\n\u001B[32m    767\u001B[39m \u001B[38;5;28;01mif\u001B[39;00m START \u001B[38;5;129;01mnot\u001B[39;00m \u001B[38;5;129;01min\u001B[39;00m all_sources:\n\u001B[32m    768\u001B[39m     \u001B[38;5;28;01mraise\u001B[39;00m \u001B[38;5;167;01mValueError\u001B[39;00m(\n\u001B[32m    769\u001B[39m         \u001B[33m\"\u001B[39m\u001B[33mGraph must have an entrypoint: add at least one edge from START to another node\u001B[39m\u001B[33m\"\u001B[39m\n\u001B[32m    770\u001B[39m     )\n",
      "\u001B[31mValueError\u001B[39m: Found edge starting at unknown node 'tools'"
     ]
    }
   ],
   "execution_count": 332
  },
  {
   "metadata": {
    "ExecuteTime": {
     "end_time": "2025-10-13T11:53:03.033594Z",
     "start_time": "2025-10-13T11:53:02.915714Z"
    }
   },
   "cell_type": "code",
   "source": [
    "print(graph.get_graph().draw_mermaid())\n",
    "\n",
    "from IPython.display import Image, display\n",
    "\n",
    "display(Image(graph.get_graph().draw_mermaid_png()))"
   ],
   "id": "a6ac62f557e188f5",
   "outputs": [
    {
     "name": "stdout",
     "output_type": "stream",
     "text": [
      "---\n",
      "config:\n",
      "  flowchart:\n",
      "    curve: linear\n",
      "---\n",
      "graph TD;\n",
      "\t__start__(<p>__start__</p>)\n",
      "\tinitialStateLoader(initialStateLoader)\n",
      "\tmasterChatbot(masterChatbot)\n",
      "\teducationalWorker(educationalWorker)\n",
      "\tstorytellingWorker(storytellingWorker)\n",
      "\tformat_response(format_response)\n",
      "\ttools(tools)\n",
      "\t__end__(<p>__end__</p>)\n",
      "\t__start__ -.-> __end__;\n",
      "\tclassDef default fill:#f2f0ff,line-height:1.2\n",
      "\tclassDef first fill-opacity:0\n",
      "\tclassDef last fill:#bfb6fc\n",
      "\n"
     ]
    },
    {
     "data": {
      "image/png": "[encoded data removed]",
      "text/plain": [
       "<IPython.core.display.Image object>"
      ]
     },
     "metadata": {},
     "output_type": "display_data"
    }
   ],
   "execution_count": 333
  },
  {
   "metadata": {
    "ExecuteTime": {
     "end_time": "2025-10-13T11:57:24.125332Z",
     "start_time": "2025-10-13T11:57:18.208145Z"
    }
   },
   "cell_type": "code",
   "source": [
    "config  = {'configurable': { 'thread_id': '5'}}\n",
    "#state = graph.invoke({\"messages\": [{\"role\": \"user\", \"content\": \"Hi how are you?\"}]}, config=config)\n",
    "state = graph.invoke({\"messages\": [\n",
    "    {\"role\": \"user\", \"content\": \"Start\"}\n",
    "],\n",
    "    \"child_id\": \"2\",\n",
    "    \"game_id\": \"0\",\n",
    "}, config=config)\n",
    "print(\"======== Final response ========\")\n",
    "print(state[\"messages\"][-1].content)"
   ],
   "id": "bd893a70fcd4dbf4",
   "outputs": [
    {
     "name": "stdout",
     "output_type": "stream",
     "text": [
      "Game loaded: Du bist Lino, ein Teddybär und Erklärbär. Ein Erklärbar ist ganz schlau und kann Kindern ganz viele Sachen erklären. Immer wenn ein Kind eine Frage hat, kann das Kind mit der Frage zu dir kommen. Dann schaut ihr gemeinsam, ob ihr die Frage beantworten könnt.\n",
      "Child profile loaded: Das Kind ist 8 Jahre alt, mag Fussball und Videospiele. Es liest gerne Abenteuerbücher.\n",
      "======== Final response ========\n",
      "Hey Kai, I am Lino, your super smart, extra cuddly teddy bear friend. I hear you are the coolest kid around who loves football, video games, and awesome adventure books. What amazing thing are you up to today? Maybe we can find an adventure together.\n"
     ]
    }
   ],
   "execution_count": 335
  },
  {
   "metadata": {
    "ExecuteTime": {
     "end_time": "2025-10-11T20:53:35.728860Z",
     "start_time": "2025-10-11T20:53:27.773984Z"
    }
   },
   "cell_type": "code",
   "source": [
    "config = {'configurable': {'thread_id': '4'}}\n",
    "#state = graph.invoke({\"messages\": [{\"role\": \"user\", \"content\": \"Hi how are you?\"}]}, config=config)\n",
    "state = graph.invoke({\"messages\": [\n",
    "    {\"role\": \"user\", \"content\": \"No tell me more\"}\n",
    "]\n",
    "}, config=config)\n",
    "print(\"======== Final response ========\")\n",
    "print(state[\"messages\"][-1].content)"
   ],
   "id": "680606cb0af57676",
   "outputs": [
    {
     "name": "stdout",
     "output_type": "stream",
     "text": [
      "Child profile loaded: Das Kind ist 8 Jahre alt, mag Fussball und Videospiele. Es liest gerne Abenteuerbücher.\n",
      "Child profile loaded: Das Kind ist 8 Jahre alt, mag Fussball und Videospiele. Es liest gerne Abenteuerbücher.\n",
      "Game loaded: Du bist Lino, ein Teddybär und Erklärbär. Ein Erklärbar ist ganz schlau und kann Kindern ganz viele Sachen erklären. Immer wenn ein Kind eine Frage hat, kann das Kind mit der Frage zu dir kommen. Dann schaut ihr gemeinsam, ob ihr die Frage beantworten könnt.\n",
      "======== Final response ========\n",
      "Alright, alright! I'll spill the beans! Imagine your foot is a magic wand, and you're casting a curving spell! To curve the ball, you don't kick it with the middle of your foot. Instead, you kick it with the side!\n",
      "\n",
      "Think about it like this: if you want the ball to curve to the right, you kick it with the inside of your foot, the part closest to your other foot. And if you want it to curve to the left, you kick it with the outside of your foot!\n",
      "\n",
      "Now, here's a question for you, imagine you are in a big soccer tournament! Can you describe how you'd curve the ball to score the winning goal? Which way would you want it to curve?\n"
     ]
    }
   ],
   "execution_count": 295
  },
  {
   "metadata": {
    "ExecuteTime": {
     "end_time": "2025-10-13T12:13:19.241109Z",
     "start_time": "2025-10-13T12:12:30.291893Z"
    }
   },
   "cell_type": "code",
   "source": [
    "config = {'configurable': {'thread_id': '5'}}\n",
    "while True:\n",
    "    in_message = input(\"You: \")\n",
    "    if in_message.lower() in {\"quit\",\"exit\"}:\n",
    "        break\n",
    "    state = graph.invoke({\"messages\": [{\"role\": \"user\", \"content\": in_message}]}, config=config)\n",
    "\n",
    "    print(\"Bot:\", state[\"messages\"][-1].content)"
   ],
   "id": "6a71da661691392a",
   "outputs": [
    {
     "name": "stdout",
     "output_type": "stream",
     "text": [
      "Bot: Awesome What position did you play Did you score any goals or make any great saves Tell me all about it Actually wait a minute Did you bring your favorite football back with you I have a funny feeling it might be missing and maybe we need to become super sleuths to find it It could be anywhere maybe even in a secret hiding place only adventurers know about\n"
     ]
    },
    {
     "ename": "KeyboardInterrupt",
     "evalue": "Interrupted by user",
     "output_type": "error",
     "traceback": [
      "\u001B[31m---------------------------------------------------------------------------\u001B[39m",
      "\u001B[31mKeyboardInterrupt\u001B[39m                         Traceback (most recent call last)",
      "\u001B[36mCell\u001B[39m\u001B[36m \u001B[39m\u001B[32mIn[338]\u001B[39m\u001B[32m, line 3\u001B[39m\n\u001B[32m      1\u001B[39m config = {\u001B[33m'\u001B[39m\u001B[33mconfigurable\u001B[39m\u001B[33m'\u001B[39m: {\u001B[33m'\u001B[39m\u001B[33mthread_id\u001B[39m\u001B[33m'\u001B[39m: \u001B[33m'\u001B[39m\u001B[33m5\u001B[39m\u001B[33m'\u001B[39m}}\n\u001B[32m      2\u001B[39m \u001B[38;5;28;01mwhile\u001B[39;00m \u001B[38;5;28;01mTrue\u001B[39;00m:\n\u001B[32m----> \u001B[39m\u001B[32m3\u001B[39m     in_message = \u001B[38;5;28;43minput\u001B[39;49m\u001B[43m(\u001B[49m\u001B[33;43m\"\u001B[39;49m\u001B[33;43mYou: \u001B[39;49m\u001B[33;43m\"\u001B[39;49m\u001B[43m)\u001B[49m\n\u001B[32m      4\u001B[39m     \u001B[38;5;28;01mif\u001B[39;00m in_message.lower() \u001B[38;5;129;01min\u001B[39;00m {\u001B[33m\"\u001B[39m\u001B[33mquit\u001B[39m\u001B[33m\"\u001B[39m,\u001B[33m\"\u001B[39m\u001B[33mexit\u001B[39m\u001B[33m\"\u001B[39m}:\n\u001B[32m      5\u001B[39m         \u001B[38;5;28;01mbreak\u001B[39;00m\n",
      "\u001B[36mFile \u001B[39m\u001B[32m~/GIT/langgraph-learning/.venv/lib/python3.13/site-packages/ipykernel/kernelbase.py:1275\u001B[39m, in \u001B[36mKernel.raw_input\u001B[39m\u001B[34m(self, prompt)\u001B[39m\n\u001B[32m   1273\u001B[39m     msg = \u001B[33m\"\u001B[39m\u001B[33mraw_input was called, but this frontend does not support input requests.\u001B[39m\u001B[33m\"\u001B[39m\n\u001B[32m   1274\u001B[39m     \u001B[38;5;28;01mraise\u001B[39;00m StdinNotImplementedError(msg)\n\u001B[32m-> \u001B[39m\u001B[32m1275\u001B[39m \u001B[38;5;28;01mreturn\u001B[39;00m \u001B[38;5;28;43mself\u001B[39;49m\u001B[43m.\u001B[49m\u001B[43m_input_request\u001B[49m\u001B[43m(\u001B[49m\n\u001B[32m   1276\u001B[39m \u001B[43m    \u001B[49m\u001B[38;5;28;43mstr\u001B[39;49m\u001B[43m(\u001B[49m\u001B[43mprompt\u001B[49m\u001B[43m)\u001B[49m\u001B[43m,\u001B[49m\n\u001B[32m   1277\u001B[39m \u001B[43m    \u001B[49m\u001B[38;5;28;43mself\u001B[39;49m\u001B[43m.\u001B[49m\u001B[43m_parent_ident\u001B[49m\u001B[43m[\u001B[49m\u001B[33;43m\"\u001B[39;49m\u001B[33;43mshell\u001B[39;49m\u001B[33;43m\"\u001B[39;49m\u001B[43m]\u001B[49m\u001B[43m,\u001B[49m\n\u001B[32m   1278\u001B[39m \u001B[43m    \u001B[49m\u001B[38;5;28;43mself\u001B[39;49m\u001B[43m.\u001B[49m\u001B[43mget_parent\u001B[49m\u001B[43m(\u001B[49m\u001B[33;43m\"\u001B[39;49m\u001B[33;43mshell\u001B[39;49m\u001B[33;43m\"\u001B[39;49m\u001B[43m)\u001B[49m\u001B[43m,\u001B[49m\n\u001B[32m   1279\u001B[39m \u001B[43m    \u001B[49m\u001B[43mpassword\u001B[49m\u001B[43m=\u001B[49m\u001B[38;5;28;43;01mFalse\u001B[39;49;00m\u001B[43m,\u001B[49m\n\u001B[32m   1280\u001B[39m \u001B[43m\u001B[49m\u001B[43m)\u001B[49m\n",
      "\u001B[36mFile \u001B[39m\u001B[32m~/GIT/langgraph-learning/.venv/lib/python3.13/site-packages/ipykernel/kernelbase.py:1320\u001B[39m, in \u001B[36mKernel._input_request\u001B[39m\u001B[34m(self, prompt, ident, parent, password)\u001B[39m\n\u001B[32m   1317\u001B[39m \u001B[38;5;28;01mexcept\u001B[39;00m \u001B[38;5;167;01mKeyboardInterrupt\u001B[39;00m:\n\u001B[32m   1318\u001B[39m     \u001B[38;5;66;03m# re-raise KeyboardInterrupt, to truncate traceback\u001B[39;00m\n\u001B[32m   1319\u001B[39m     msg = \u001B[33m\"\u001B[39m\u001B[33mInterrupted by user\u001B[39m\u001B[33m\"\u001B[39m\n\u001B[32m-> \u001B[39m\u001B[32m1320\u001B[39m     \u001B[38;5;28;01mraise\u001B[39;00m \u001B[38;5;167;01mKeyboardInterrupt\u001B[39;00m(msg) \u001B[38;5;28;01mfrom\u001B[39;00m\u001B[38;5;250m \u001B[39m\u001B[38;5;28;01mNone\u001B[39;00m\n\u001B[32m   1321\u001B[39m \u001B[38;5;28;01mexcept\u001B[39;00m \u001B[38;5;167;01mException\u001B[39;00m:\n\u001B[32m   1322\u001B[39m     \u001B[38;5;28mself\u001B[39m.log.warning(\u001B[33m\"\u001B[39m\u001B[33mInvalid Message:\u001B[39m\u001B[33m\"\u001B[39m, exc_info=\u001B[38;5;28;01mTrue\u001B[39;00m)\n",
      "\u001B[31mKeyboardInterrupt\u001B[39m: Interrupted by user"
     ]
    }
   ],
   "execution_count": 338
  },
  {
   "metadata": {},
   "cell_type": "code",
   "outputs": [],
   "execution_count": null,
   "source": "",
   "id": "ef32a191323f00aa"
  }
 ],
 "metadata": {
  "kernelspec": {
   "display_name": "Python 3",
   "language": "python",
   "name": "python3"
  },
  "language_info": {
   "codemirror_mode": {
    "name": "ipython",
    "version": 2
   },
   "file_extension": ".py",
   "mimetype": "text/x-python",
   "name": "python",
   "nbconvert_exporter": "python",
   "pygments_lexer": "ipython2",
   "version": "2.7.6"
  }
 },
 "nbformat": 4,
 "nbformat_minor": 5
}
