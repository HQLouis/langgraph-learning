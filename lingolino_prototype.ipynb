{
 "cells": [
  {
   "metadata": {
    "ExecuteTime": {
     "end_time": "2025-10-15T13:34:28.790103Z",
     "start_time": "2025-10-15T13:34:28.272783Z"
    }
   },
   "cell_type": "code",
   "source": [
    "from langchain.chat_models import init_chat_model\n",
    "from typing import Annotated\n",
    "from typing_extensions import TypedDict\n",
    "from langgraph.graph import StateGraph, START, END\n",
    "from langgraph.graph.message import add_messages"
   ],
   "id": "feb73c2af65d1ea2",
   "outputs": [],
   "execution_count": 1
  },
  {
   "metadata": {
    "ExecuteTime": {
     "end_time": "2025-10-15T13:34:28.812916Z",
     "start_time": "2025-10-15T13:34:28.802098Z"
    }
   },
   "cell_type": "code",
   "source": [
    "from dotenv import load_dotenv\n",
    "load_dotenv()"
   ],
   "id": "548a8534cc2d2d86",
   "outputs": [
    {
     "data": {
      "text/plain": [
       "True"
      ]
     },
     "execution_count": 2,
     "metadata": {},
     "output_type": "execute_result"
    }
   ],
   "execution_count": 2
  },
  {
   "metadata": {
    "ExecuteTime": {
     "end_time": "2025-10-15T13:34:28.962876Z",
     "start_time": "2025-10-15T13:34:28.958775Z"
    }
   },
   "cell_type": "code",
   "source": [
    "from langgraph.checkpoint.memory import MemorySaver\n",
    "\n",
    "memory = MemorySaver()"
   ],
   "id": "b0e734d3dc8983fb",
   "outputs": [],
   "execution_count": 3
  },
  {
   "metadata": {
    "ExecuteTime": {
     "end_time": "2025-10-15T13:34:28.972505Z",
     "start_time": "2025-10-15T13:34:28.969640Z"
    }
   },
   "cell_type": "code",
   "source": [
    "class State(TypedDict):\n",
    "    # Messages have the type \"list\". The `add_messages` function\n",
    "    # in the annotation defines how this state key should be updated\n",
    "    # (in this case, it appends messages to the list, rather than overwriting them)\n",
    "    child_id: str\n",
    "    game_id: str\n",
    "    messages: Annotated[list, add_messages]\n",
    "    # TODO LNG: for the inputs below we will test if keeping the list of inputs is useful later. For now go with the simple and promising variant of only having the most recent input in the state.\n",
    "    game_description: str\n",
    "    child_profile: str\n",
    "    story_analysis: str\n",
    "    educational_analysis: str "
   ],
   "id": "c533906188f32276",
   "outputs": [],
   "execution_count": 4
  },
  {
   "metadata": {
    "ExecuteTime": {
     "end_time": "2025-10-15T13:34:29.393101Z",
     "start_time": "2025-10-15T13:34:28.979496Z"
    }
   },
   "cell_type": "code",
   "source": [
    "from typing_extensions import Annotated\n",
    "from langgraph.prebuilt import InjectedState\n",
    "\n",
    "def get_game_by_id(state: Annotated[State, InjectedState]) -> str:\n",
    "    '''Return the game description whose ID lives in state['game_id'] \n",
    "    :param state: state containing game_id\n",
    "    :return: description of game\n",
    "    '''\n",
    "    game_id = state.get(\"game_id\", \"0\")\n",
    "    game = {\n",
    "        \"0\": \"Du bist Lino, ein Teddybär und Erklärbär. Ein Erklärbar ist ganz schlau und kann Kindern ganz viele Sachen erklären. Immer wenn ein Kind eine Frage hat, kann das Kind mit der Frage zu dir kommen. Dann schaut ihr gemeinsam, ob ihr die Frage beantworten könnt.\",\n",
    "    }.get(game_id, \"This is an open world game. You can do anything you want.\")\n",
    "    print(\"Game loaded:\", game)\n",
    "    return game\n",
    "\n",
    "def get_child_profile(state: Annotated[State, InjectedState]) -> str:\n",
    "    '''Return the profile of the child whose ID lives in state['child_id'] \n",
    "    :param state: state containing child_id\n",
    "    :return: profile of child\n",
    "    '''\n",
    "    child_id = state.get(\"child_id\", \"1\")\n",
    "    child_profile = {\n",
    "        \"1\": \"Das Kind ist 5 Jahre alt, mag Dinosaurier und Raketen. Es lernt gerade lesen und schreiben.\",\n",
    "        \"2\": \"Das Kind ist 8 Jahre alt, mag Fussball und Videospiele. Es liest gerne Abenteuerbücher.\",\n",
    "        \"3\": \"Das Kind ist 10 Jahre alt, mag Programmieren und Robotik. Es liest gerne Science-Fiction-Bücher.\",\n",
    "    }.get(child_id, \"This is a child with no specific profile.\")\n",
    "    print(\"Child profile loaded:\", child_profile)\n",
    "    return child_profile\n",
    "\n",
    "tools = [get_game_by_id, get_child_profile] #  TODO LNG: there shall be a split list to have only the relevant tools for each worker. Remove this \"tools\" list afterwards. \n",
    "### Master chatbot ###\n",
    "llm = init_chat_model(\"google_genai:gemini-2.0-flash\")\n",
    "#llm_with_tools = llm.bind_tools([])\n"
   ],
   "id": "5c7acecc9d834c1a",
   "outputs": [
    {
     "name": "stderr",
     "output_type": "stream",
     "text": [
      "WARNING: All log messages before absl::InitializeLog() is called are written to STDERR\n",
      "E0000 00:00:1760535269.388804  620377 alts_credentials.cc:93] ALTS creds ignored. Not running on GCP and untrusted ALTS is not enabled.\n"
     ]
    }
   ],
   "execution_count": 5
  },
  {
   "metadata": {
    "ExecuteTime": {
     "end_time": "2025-10-15T13:34:29.419487Z",
     "start_time": "2025-10-15T13:34:29.401216Z"
    }
   },
   "cell_type": "code",
   "source": [
    "from langchain_core.messages import SystemMessage, HumanMessage, AIMessage, RemoveMessage\n",
    "from langgraph.types import Command\n",
    "\n",
    "def masterChatbot(state: State):\n",
    "    system_context = f\"\"\"\n",
    "    You are chatting with a child. Your output shall consider the guidance's and be the direct answer to the child.  Try to keep the story engaging and fun. For that if needed even go into a different direction if the educational analysis suggests that the child is bored.\n",
    "    Use this guidance:\n",
    "    \n",
    "    Story Analysis: {state.get('story_analysis', '')}\n",
    "    Educational Analysis: {state.get('educational_analysis', '')}\n",
    "    \"\"\"\n",
    "    system_message = SystemMessage(content=system_context)\n",
    "    messages = [system_message] + state[\"messages\"]\n",
    "    \n",
    "    return {\"messages\": state[\"messages\"] + [llm.invoke(messages)]}\n",
    "\n",
    "educational_prompt = (\n",
    "        \"You are a educational advisor. Analyze the following conversation between an application and a child.\\n\"\n",
    "        \"Provide analysis of:\\n\"\n",
    "        \"1. Child's current emotional state\\n\"\n",
    "    )\n",
    "def educationalWorker(state: State):\n",
    "    system_message = SystemMessage(content=educational_prompt)\n",
    "    \n",
    "    # Analyze the conversation without participating in it\n",
    "    conversation_summary = \"\\n\".join([\n",
    "        f\"{msg.type}: {msg.content}\" for msg in state[\"messages\"]\n",
    "    ])\n",
    "    child_profile = state.get('child_profile','')\n",
    "    analysis_message = HumanMessage(\n",
    "        content=f\"Analyze this conversation: {conversation_summary}. Child profile: {child_profile}\"\n",
    "    )\n",
    "    \n",
    "    response = llm.invoke([system_message, analysis_message])\n",
    "    # Store analysis separately from conversation\n",
    "    return Command(update={\"educational_analysis\": response.content})\n",
    "\n",
    "\n",
    "storytelling_prompt = (\n",
    "        \"You are a storytelling advisor. Analyze the following conversation between an application and a child.\\n\"\n",
    "        \"Provide three next story developments which makes sense to build a fun and engaging story.\\n\\n\"\n",
    "    )\n",
    "def storytellingWorker(state: State):\n",
    "    system_message = SystemMessage(content=storytelling_prompt)\n",
    "    \n",
    "    # Analyze the conversation without participating in it\n",
    "    conversation_summary = \"\\n\".join([\n",
    "        f\"{msg.type}: {msg.content}\" for msg in state[\"messages\"]\n",
    "    ])\n",
    "    child_profile = state.get('child_profile','')\n",
    "    game_description = state.get('game_description','')\n",
    "    analysis_message = HumanMessage(\n",
    "        content=f\"Analyze this conversation: {conversation_summary} Child profile: {child_profile} Game description: {game_description}\"\n",
    "    )\n",
    "    \n",
    "    response = llm.invoke([system_message, analysis_message])\n",
    "    # Store analysis separately from conversation\n",
    "    return Command(update={\"story_analysis\": response.content})\n",
    "\n",
    "\n",
    "def format_response(state: State) -> dict:\n",
    "    \"\"\"\n",
    "    Formats the response of the agent to make it suitable for TTS. This shall be the last step before returning the response to the user.\n",
    "    Removes the raw response from state to avoid overloading it.\n",
    "    :param state: \n",
    "    :return: Formatted string of response and removal of raw message.\n",
    "    \"\"\"\n",
    "    raw_response = state[\"messages\"][-1].content\n",
    "    raw_message_id = state[\"messages\"][-1].id\n",
    "    \n",
    "    formatted = llm.invoke([\n",
    "        SystemMessage(content=(\n",
    "            \"You are a formatting assistant. Format the following text to be suitable \"\n",
    "            \"for TTS. Remove all special characters such as emojis and make it easy to read aloud.\"\n",
    "        )),\n",
    "        HumanMessage(content=raw_response)\n",
    "    ]).content\n",
    "\n",
    "    # Return both the formatted message and removal of the raw message\n",
    "    return {\n",
    "        \"messages\": [\n",
    "            # RemoveMessage(id=raw_message_id),  # Remove the raw response\n",
    "            AIMessage(content=formatted)        # Add the formatted response\n",
    "        ]\n",
    "    }\n",
    "    \n",
    "    \n",
    "def initialStateLoader(state: State) -> dict:\n",
    "    \"\"\"\n",
    "    Load initial state values such as game description and child profile based on IDs in the state.\n",
    "    :param state: current state\n",
    "    :return: updated state with game_description and child_profile\n",
    "    \"\"\"\n",
    "    game_description = get_game_by_id(state)\n",
    "    child_profile = get_child_profile(state)\n",
    "    return {\n",
    "        \"game_description\": game_description,\n",
    "        \"child_profile\": child_profile\n",
    "    }\n",
    "\n",
    "def needs_initial_state(state: State) -> str:\n",
    "    if not (state.get(\"game_description\") and state.get(\"child_profile\")):\n",
    "        return \"initialStateLoader\"\n",
    "    return [\"educationalWorker\", \"storytellingWorker\", \"masterChatbot\"]\n",
    "\n",
    "\n",
    "def immediate_response_graph():\n",
    "    builder = StateGraph(State)\n",
    "    \n",
    "    builder.add_node(initialStateLoader)\n",
    "    builder.add_node(masterChatbot)\n",
    "    builder.add_node(format_response)\n",
    "    \n",
    "    builder.add_conditional_edges(START, needs_initial_state)\n",
    "    builder.add_edge(\"initialStateLoader\", \"masterChatbot\")\n",
    "    builder.add_edge(\"masterChatbot\", \"format_response\")\n",
    "    builder.add_edge(\"format_response\", END)\n",
    "    \n",
    "    return builder.compile(checkpointer=memory)\n",
    "\n",
    "\n",
    "\n",
    "def background_analysis_graph():\n",
    "    builder = StateGraph(State)\n",
    "    \n",
    "    builder.add_node(initialStateLoader) \n",
    "    builder.add_node(educationalWorker)\n",
    "    builder.add_node(storytellingWorker)\n",
    "    \n",
    "    builder.add_conditional_edges(START, needs_initial_state)\n",
    "    builder.add_edge(\"initialStateLoader\", \"educationalWorker\")\n",
    "    builder.add_edge(\"initialStateLoader\", \"storytellingWorker\")\n",
    "    builder.add_edge(\"educationalWorker\", END)\n",
    "    builder.add_edge(\"storytellingWorker\", END)\n",
    "    \n",
    "    return builder.compile(checkpointer=memory)\n",
    "\n",
    "immediate_graph = immediate_response_graph()\n",
    "background_graph = background_analysis_graph()\n",
    "\n"
   ],
   "id": "88523d65c1222beb",
   "outputs": [],
   "execution_count": 6
  },
  {
   "metadata": {
    "ExecuteTime": {
     "end_time": "2025-10-15T13:34:29.665489Z",
     "start_time": "2025-10-15T13:34:29.427738Z"
    }
   },
   "cell_type": "code",
   "source": [
    "print(immediate_graph.get_graph().draw_mermaid())\n",
    "print(background_graph.get_graph().draw_mermaid())\n",
    "\n",
    "from IPython.display import Image, display\n",
    "\n",
    "display(Image(immediate_graph.get_graph().draw_mermaid_png()))\n",
    "display(Image(background_graph.get_graph().draw_mermaid_png()))"
   ],
   "id": "a6ac62f557e188f5",
   "outputs": [
    {
     "name": "stdout",
     "output_type": "stream",
     "text": [
      "---\n",
      "config:\n",
      "  flowchart:\n",
      "    curve: linear\n",
      "---\n",
      "graph TD;\n",
      "\t__start__(<p>__start__</p>)\n",
      "\tinitialStateLoader(initialStateLoader)\n",
      "\tmasterChatbot(masterChatbot)\n",
      "\tformat_response(format_response)\n",
      "\t__end__(<p>__end__</p>)\n",
      "\t__start__ -.-> __end__;\n",
      "\tclassDef default fill:#f2f0ff,line-height:1.2\n",
      "\tclassDef first fill-opacity:0\n",
      "\tclassDef last fill:#bfb6fc\n",
      "\n",
      "---\n",
      "config:\n",
      "  flowchart:\n",
      "    curve: linear\n",
      "---\n",
      "graph TD;\n",
      "\t__start__(<p>__start__</p>)\n",
      "\tinitialStateLoader(initialStateLoader)\n",
      "\teducationalWorker(educationalWorker)\n",
      "\tstorytellingWorker(storytellingWorker)\n",
      "\t__end__(<p>__end__</p>)\n",
      "\t__start__ -.-> __end__;\n",
      "\tclassDef default fill:#f2f0ff,line-height:1.2\n",
      "\tclassDef first fill-opacity:0\n",
      "\tclassDef last fill:#bfb6fc\n",
      "\n"
     ]
    },
    {
     "data": {
      "image/png": "[encoded data removed]",
      "text/plain": [
       "<IPython.core.display.Image object>"
      ]
     },
     "metadata": {},
     "output_type": "display_data"
    },
    {
     "data": {
      "image/png": "[encoded data removed]",
      "text/plain": [
       "<IPython.core.display.Image object>"
      ]
     },
     "metadata": {},
     "output_type": "display_data"
    }
   ],
   "execution_count": 7
  },
  {
   "metadata": {
    "ExecuteTime": {
     "end_time": "2025-10-15T13:34:31.224064Z",
     "start_time": "2025-10-15T13:34:29.696989Z"
    }
   },
   "cell_type": "code",
   "source": [
    "# Simulation of first interaction\n",
    "config  = {'configurable': { 'thread_id': '9'}}\n",
    "#state = graph.invoke({\"messages\": [{\"role\": \"user\", \"content\": \"Hi how are you?\"}]}, config=config)\n",
    "state = immediate_graph.invoke({\"messages\": [\n",
    "    {\"role\": \"user\", \"content\": \"Start\"}\n",
    "],\n",
    "    \"child_id\": \"2\",\n",
    "    \"game_id\": \"0\",\n",
    "}, config=config)\n",
    "print(\"======== Final response ========\")\n",
    "print(state[\"messages\"][-1].content)"
   ],
   "id": "bd893a70fcd4dbf4",
   "outputs": [
    {
     "name": "stdout",
     "output_type": "stream",
     "text": [
      "Game loaded: Du bist Lino, ein Teddybär und Erklärbär. Ein Erklärbar ist ganz schlau und kann Kindern ganz viele Sachen erklären. Immer wenn ein Kind eine Frage hat, kann das Kind mit der Frage zu dir kommen. Dann schaut ihr gemeinsam, ob ihr die Frage beantworten könnt.\n",
      "Child profile loaded: Das Kind ist 8 Jahre alt, mag Fussball und Videospiele. Es liest gerne Abenteuerbücher.\n",
      "======== Final response ========\n",
      "Hey there, future explorer. Ready for an adventure? Tell me, what amazing things are you curious about today?\n"
     ]
    }
   ],
   "execution_count": 8
  },
  {
   "metadata": {
    "ExecuteTime": {
     "end_time": "2025-10-15T13:34:31.236496Z",
     "start_time": "2025-10-15T13:34:31.233274Z"
    }
   },
   "cell_type": "code",
   "source": [
    "import asyncio\n",
    "\n",
    "async def process_user_input(user_input, config):\n",
    "    # Sofortiger Response-Graph\n",
    "    immediate_graph = immediate_response_graph()\n",
    "    \n",
    "    # Background-Analysis-Graph  \n",
    "    background_graph = background_analysis_graph()\n",
    "    \n",
    "    # Starte beide parallel\n",
    "    immediate_task = asyncio.create_task(\n",
    "        immediate_graph.ainvoke(user_input, config)\n",
    "    )\n",
    "    \n",
    "    \n",
    "    \n",
    "    # Warte nur auf sofortige Antwort\n",
    "    immediate_result = await immediate_task\n",
    "    # Calling background task once the immediate task is done to not risk race conditions with the state.\n",
    "    #background_task = asyncio.create_task(\n",
    "     #   background_graph.ainvoke(user_input, config)\n",
    "    #)\n",
    "    \n",
    "    # Background task läuft weiter (Fire & Forget)\n",
    "    # Keine await - läuft im Hintergrund weiter\n",
    "    \n",
    "    return immediate_result\n",
    "\n",
    "\n",
    "\n",
    "    "
   ],
   "id": "6a71da661691392a",
   "outputs": [],
   "execution_count": 9
  },
  {
   "metadata": {
    "ExecuteTime": {
     "end_time": "2025-10-15T13:36:04.247803Z",
     "start_time": "2025-10-15T13:35:58.134198Z"
    }
   },
   "cell_type": "code",
   "source": [
    "\n",
    "config = {'configurable': {'thread_id': '9'}}\n",
    "in_message = input(\"You: \")\n",
    "import asyncio\n",
    "\n",
    "try:\n",
    "    result = await process_user_input({\"messages\": [{\"role\": \"user\", \"content\": in_message}]}, config)\n",
    "except SyntaxError:\n",
    "    result = asyncio.run(process_user_input({\"messages\": [{\"role\": \"user\", \"content\": in_message}]}, config))\n",
    "\n",
    "\n",
    "print(result[\"messages\"][-1].content)"
   ],
   "id": "ef32a191323f00aa",
   "outputs": [
    {
     "name": "stderr",
     "output_type": "stream",
     "text": [
      "Task __start__ with path ('__pregel_pull', '__start__') wrote to unknown channel branch:to:educationalWorker, ignoring it.\n",
      "Task __start__ with path ('__pregel_pull', '__start__') wrote to unknown channel branch:to:storytellingWorker, ignoring it.\n"
     ]
    },
    {
     "name": "stdout",
     "output_type": "stream",
     "text": [
      "Once upon a time, in a land made of lollipops, there was a big dinosaur who wore a tutu and tap dancing shoes. He falls...\n",
      "\n",
      "...right into a giant puddle of chocolate milk! Oh no!\n",
      "\n",
      "Now you add to the story! What does the dinosaur do next covered in chocolate milk?\n"
     ]
    }
   ],
   "execution_count": 15
  },
  {
   "metadata": {
    "ExecuteTime": {
     "end_time": "2025-10-15T13:34:38.835094Z",
     "start_time": "2025-10-15T13:34:38.832689Z"
    }
   },
   "cell_type": "code",
   "source": "",
   "id": "f9fb750286406681",
   "outputs": [],
   "execution_count": null
  }
 ],
 "metadata": {
  "kernelspec": {
   "display_name": "Python 3",
   "language": "python",
   "name": "python3"
  },
  "language_info": {
   "codemirror_mode": {
    "name": "ipython",
    "version": 2
   },
   "file_extension": ".py",
   "mimetype": "text/x-python",
   "name": "python",
   "nbconvert_exporter": "python",
   "pygments_lexer": "ipython2",
   "version": "2.7.6"
  }
 },
 "nbformat": 4,
 "nbformat_minor": 5
}
