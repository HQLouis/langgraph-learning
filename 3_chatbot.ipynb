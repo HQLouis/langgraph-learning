{
 "cells": [
  {
   "cell_type": "code",
   "id": "initial_id",
   "metadata": {
    "collapsed": true,
    "ExecuteTime": {
     "end_time": "2025-10-10T16:20:55.670080Z",
     "start_time": "2025-10-10T16:20:54.170649Z"
    }
   },
   "source": [
    "from typing import Annotated\n",
    "from dotenv import load_dotenv\n",
    "load_dotenv()\n",
    "\n",
    "from typing_extensions import TypedDict\n",
    "from langchain.chat_models import init_chat_model\n",
    "from langgraph.graph import StateGraph, START, END\n",
    "from langgraph.graph.message import add_messages"
   ],
   "outputs": [],
   "execution_count": 2
  },
  {
   "metadata": {
    "ExecuteTime": {
     "end_time": "2025-10-10T16:20:57.313190Z",
     "start_time": "2025-10-10T16:20:57.310642Z"
    }
   },
   "cell_type": "code",
   "source": "from langchain.chat_models import init_chat_model",
   "id": "3fabe96e1d5e52d9",
   "outputs": [],
   "execution_count": 3
  },
  {
   "metadata": {
    "ExecuteTime": {
     "end_time": "2025-10-10T21:18:03.041235Z",
     "start_time": "2025-10-10T21:18:03.032269Z"
    }
   },
   "cell_type": "code",
   "source": [
    "llm = init_chat_model(\"google_genai:gemini-2.0-flash\")\n",
    "\n",
    "class State(TypedDict):\n",
    "    messages: Annotated[list, add_messages]\n",
    "\n",
    "def chatbot(state: State) -> State:\n",
    "    return {\"messages\": [llm.invoke(state[\"messages\"])]}\n",
    "\n",
    "builder = StateGraph(State)\n",
    "builder.add_node(\"chatbot_node\", chatbot)\n",
    "\n",
    "builder.add_edge(START, \"chatbot_node\")\n",
    "builder.add_edge(\"chatbot_node\", END)\n",
    "\n",
    "graph = builder.compile()"
   ],
   "id": "9b304abef3cc5cc8",
   "outputs": [
    {
     "name": "stderr",
     "output_type": "stream",
     "text": [
      "E0000 00:00:1760131083.037062 16450152 alts_credentials.cc:93] ALTS creds ignored. Not running on GCP and untrusted ALTS is not enabled.\n"
     ]
    }
   ],
   "execution_count": 16
  },
  {
   "metadata": {
    "ExecuteTime": {
     "end_time": "2025-10-10T21:17:31.795764Z",
     "start_time": "2025-10-10T21:17:30.852607Z"
    }
   },
   "cell_type": "code",
   "source": [
    "message = {\"role\": \"user\", \"content\": \"Who walked on the moon for the first time? Print only the name\"}\n",
    "# message = {\"role\": \"user\", \"content\": \"What is the latest price of MSFT stock?\"}\n",
    "response = graph.invoke({\"messages\":[message]})\n",
    "\n",
    "response[\"messages\"]"
   ],
   "id": "e9520ba23d301418",
   "outputs": [
    {
     "data": {
      "text/plain": [
       "[AIMessage(content='Neil Armstrong', additional_kwargs={}, response_metadata={'prompt_feedback': {'block_reason': 0, 'safety_ratings': []}, 'finish_reason': 'STOP', 'model_name': 'gemini-2.0-flash', 'safety_ratings': []}, id='run--d0c7b5b4-1c9b-4c99-8dfa-73cc8d802578-0', usage_metadata={'input_tokens': 14, 'output_tokens': 3, 'total_tokens': 17, 'input_token_details': {'cache_read': 0}})]"
      ]
     },
     "execution_count": 14,
     "metadata": {},
     "output_type": "execute_result"
    }
   ],
   "execution_count": 14
  },
  {
   "metadata": {
    "ExecuteTime": {
     "end_time": "2025-10-10T21:18:31.732757Z",
     "start_time": "2025-10-10T21:18:15.279749Z"
    }
   },
   "cell_type": "code",
   "source": [
    "state = None\n",
    "while True:\n",
    "    in_message = input(\"You: \")\n",
    "    if in_message.lower() in {\"quit\",\"exit\"}:\n",
    "        break\n",
    "    if state is None:\n",
    "        state: State = {\n",
    "            \"messages\": [{\"role\": \"user\", \"content\": in_message}]\n",
    "        }\n",
    "    else:\n",
    "        state[\"messages\"].append({\"role\": \"user\", \"content\": in_message})\n",
    "\n",
    "    state = graph.invoke(state)\n",
    "    print(\"Bot:\", state[\"messages\"][-1].content)"
   ],
   "id": "eb3e8962da37d724",
   "outputs": [
    {
     "name": "stdout",
     "output_type": "stream",
     "text": [
      "Bot: [HumanMessage(content='Hi', additional_kwargs={}, response_metadata={}, id='da8ab171-a271-46d2-bf86-59de2745fd7b'), AIMessage(content='Hi there! How can I help you today?', additional_kwargs={}, response_metadata={'prompt_feedback': {'block_reason': 0, 'safety_ratings': []}, 'finish_reason': 'STOP', 'model_name': 'gemini-2.0-flash', 'safety_ratings': []}, id='run--beb5b49c-9aac-4c07-89ac-197a7a95e733-0', usage_metadata={'input_tokens': 1, 'output_tokens': 11, 'total_tokens': 12, 'input_token_details': {'cache_read': 0}})]\n",
      "Bot: [HumanMessage(content='Hi', additional_kwargs={}, response_metadata={}, id='da8ab171-a271-46d2-bf86-59de2745fd7b'), AIMessage(content='Hi there! How can I help you today?', additional_kwargs={}, response_metadata={'prompt_feedback': {'block_reason': 0, 'safety_ratings': []}, 'finish_reason': 'STOP', 'model_name': 'gemini-2.0-flash', 'safety_ratings': []}, id='run--beb5b49c-9aac-4c07-89ac-197a7a95e733-0', usage_metadata={'input_tokens': 1, 'output_tokens': 11, 'total_tokens': 12, 'input_token_details': {'cache_read': 0}}), HumanMessage(content='How?', additional_kwargs={}, response_metadata={}, id='9fccfc8b-9a56-4855-83c3-95def9202ac3'), AIMessage(content='Okay, that\\'s a broad question! To give you a helpful answer, I need a little more information.  \"How?\" can refer to so many things.  \\n\\nCould you please tell me what you\\'re asking about? For example, are you asking:\\n\\n* **How do I do something?** (e.g., \"How do I bake a cake?\", \"How do I learn to code?\")\\n* **How does something work?** (e.g., \"How does a car engine work?\", \"How does the internet work?\")\\n* **How did something happen?** (e.g., \"How did World War II start?\", \"How did I get a flat tire?\")\\n* **How am I doing?** (e.g., \"How am I doing in this conversation?\", \"How am I doing at my job?\")\\n* **How is something feeling?** (e.g., \"How are you feeling?\", \"How is the weather today?\")\\n\\nThe more specific you are, the better I can assist you.', additional_kwargs={}, response_metadata={'prompt_feedback': {'block_reason': 0, 'safety_ratings': []}, 'finish_reason': 'STOP', 'model_name': 'gemini-2.0-flash', 'safety_ratings': []}, id='run--f9a7de0c-0b18-4546-91e0-ee1e8ed14c9f-0', usage_metadata={'input_tokens': 13, 'output_tokens': 220, 'total_tokens': 233, 'input_token_details': {'cache_read': 0}})]\n"
     ]
    }
   ],
   "execution_count": 17
  }
 ],
 "metadata": {
  "kernelspec": {
   "display_name": "Python 3",
   "language": "python",
   "name": "python3"
  },
  "language_info": {
   "codemirror_mode": {
    "name": "ipython",
    "version": 2
   },
   "file_extension": ".py",
   "mimetype": "text/x-python",
   "name": "python",
   "nbconvert_exporter": "python",
   "pygments_lexer": "ipython2",
   "version": "2.7.6"
  }
 },
 "nbformat": 4,
 "nbformat_minor": 5
}
