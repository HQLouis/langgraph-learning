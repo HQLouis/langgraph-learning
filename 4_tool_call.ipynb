{
 "cells": [
  {
   "cell_type": "code",
   "id": "initial_id",
   "metadata": {
    "collapsed": true,
    "ExecuteTime": {
     "end_time": "2025-10-10T21:36:35.635551Z",
     "start_time": "2025-10-10T21:36:34.004423Z"
    }
   },
   "source": [
    "from langchain.chat_models import init_chat_model\n",
    "from typing import Annotated\n",
    "from typing_extensions import TypedDict\n",
    "from langgraph.graph import StateGraph, START, END\n",
    "from langgraph.graph.message import add_messages\n",
    "from langchain_core.tools import tool\n",
    "from langgraph.prebuilt import ToolNode, tools_condition"
   ],
   "outputs": [],
   "execution_count": 1
  },
  {
   "metadata": {
    "ExecuteTime": {
     "end_time": "2025-10-10T21:36:35.650772Z",
     "start_time": "2025-10-10T21:36:35.639135Z"
    }
   },
   "cell_type": "code",
   "source": [
    "from dotenv import load_dotenv\n",
    "load_dotenv()"
   ],
   "id": "36fd83f3d4e6fea2",
   "outputs": [
    {
     "data": {
      "text/plain": [
       "True"
      ]
     },
     "execution_count": 2,
     "metadata": {},
     "output_type": "execute_result"
    }
   ],
   "execution_count": 2
  },
  {
   "metadata": {
    "ExecuteTime": {
     "end_time": "2025-10-10T21:36:36.637135Z",
     "start_time": "2025-10-10T21:36:36.634250Z"
    }
   },
   "cell_type": "code",
   "source": [
    "class State(TypedDict):\n",
    "    # Messages have the type \"list\". The `add_messages` function\n",
    "    # in the annotation defines how this state key should be updated\n",
    "    # (in this case, it appends messages to the list, rather than overwriting them)\n",
    "    messages: Annotated[list, add_messages]"
   ],
   "id": "c533906188f32276",
   "outputs": [],
   "execution_count": 3
  },
  {
   "metadata": {
    "ExecuteTime": {
     "end_time": "2025-10-10T21:36:49.835281Z",
     "start_time": "2025-10-10T21:36:48.549840Z"
    }
   },
   "cell_type": "code",
   "source": [
    "@tool\n",
    "def get_stock_price(symbol: str) -> float:\n",
    "    '''Return the current price of a stock given the stock symbol\n",
    "    :param symbol: stock symbol\n",
    "    :return: current price of the stock\n",
    "    '''\n",
    "    return {\n",
    "        \"MSFT\": 200.3,\n",
    "        \"AAPL\": 100.4,\n",
    "        \"AMZN\": 150.0,\n",
    "        \"RIL\": 87.6\n",
    "    }.get(symbol, 0.0)\n",
    "\n",
    "tools = [get_stock_price]\n",
    "\n",
    "llm = init_chat_model(\"google_genai:gemini-2.0-flash\")\n",
    "llm_with_tools = llm.bind_tools(tools)"
   ],
   "id": "5c7acecc9d834c1a",
   "outputs": [
    {
     "name": "stderr",
     "output_type": "stream",
     "text": [
      "WARNING: All log messages before absl::InitializeLog() is called are written to STDERR\n",
      "E0000 00:00:1760132209.822680 16486497 alts_credentials.cc:93] ALTS creds ignored. Not running on GCP and untrusted ALTS is not enabled.\n"
     ]
    }
   ],
   "execution_count": 4
  },
  {
   "metadata": {
    "ExecuteTime": {
     "end_time": "2025-10-10T21:48:15.772297Z",
     "start_time": "2025-10-10T21:48:15.765950Z"
    }
   },
   "cell_type": "code",
   "source": [
    "def chatbot(state: State):\n",
    "    return {\"messages\": [llm_with_tools.invoke(state[\"messages\"])]}\n",
    "\n",
    "builder = StateGraph(State)\n",
    "\n",
    "builder.add_node(chatbot)\n",
    "builder.add_node(\"tools\", ToolNode(tools))\n",
    "\n",
    "builder.add_edge(START, \"chatbot\")\n",
    "builder.add_conditional_edges(\"chatbot\", tools_condition)\n",
    "\n",
    "graph = builder.compile()\n",
    "\n"
   ],
   "id": "b072ec375b0c8a8e",
   "outputs": [],
   "execution_count": 19
  },
  {
   "metadata": {
    "ExecuteTime": {
     "end_time": "2025-10-10T21:48:32.848258Z",
     "start_time": "2025-10-10T21:48:32.661011Z"
    }
   },
   "cell_type": "code",
   "source": [
    "print(graph.get_graph().draw_mermaid())\n",
    "\n",
    "from IPython.display import Image, display\n",
    "\n",
    "display(Image(graph.get_graph().draw_mermaid_png()))"
   ],
   "id": "a6ac62f557e188f5",
   "outputs": [
    {
     "name": "stdout",
     "output_type": "stream",
     "text": [
      "---\n",
      "config:\n",
      "  flowchart:\n",
      "    curve: linear\n",
      "---\n",
      "graph TD;\n",
      "\t__start__([<p>__start__</p>]):::first\n",
      "\tchatbot(chatbot)\n",
      "\ttools(tools)\n",
      "\t__end__([<p>__end__</p>]):::last\n",
      "\t__start__ --> chatbot;\n",
      "\tchatbot -.-> __end__;\n",
      "\tchatbot -.-> tools;\n",
      "\ttools --> __end__;\n",
      "\tclassDef default fill:#f2f0ff,line-height:1.2\n",
      "\tclassDef first fill-opacity:0\n",
      "\tclassDef last fill:#bfb6fc\n",
      "\n"
     ]
    },
    {
     "ename": "ValueError",
     "evalue": "Failed to reach https://mermaid.ink API while trying to render your graph. Status code: 400.\n\nTo resolve this issue:\n1. Check your internet connection and try again\n2. Try with higher retry settings: `draw_mermaid_png(..., max_retries=5, retry_delay=2.0)`\n3. Use the Pyppeteer rendering method which will render your graph locally in a browser: `draw_mermaid_png(..., draw_method=MermaidDrawMethod.PYPPETEER)`",
     "output_type": "error",
     "traceback": [
      "\u001B[31m---------------------------------------------------------------------------\u001B[39m",
      "\u001B[31mValueError\u001B[39m                                Traceback (most recent call last)",
      "\u001B[36mCell\u001B[39m\u001B[36m \u001B[39m\u001B[32mIn[21]\u001B[39m\u001B[32m, line 5\u001B[39m\n\u001B[32m      1\u001B[39m \u001B[38;5;28mprint\u001B[39m(graph.get_graph().draw_mermaid())\n\u001B[32m      3\u001B[39m \u001B[38;5;28;01mfrom\u001B[39;00m\u001B[38;5;250m \u001B[39m\u001B[34;01mIPython\u001B[39;00m\u001B[34;01m.\u001B[39;00m\u001B[34;01mdisplay\u001B[39;00m\u001B[38;5;250m \u001B[39m\u001B[38;5;28;01mimport\u001B[39;00m Image, display\n\u001B[32m----> \u001B[39m\u001B[32m5\u001B[39m display(Image(\u001B[43mgraph\u001B[49m\u001B[43m.\u001B[49m\u001B[43mget_graph\u001B[49m\u001B[43m(\u001B[49m\u001B[43m)\u001B[49m\u001B[43m.\u001B[49m\u001B[43mdraw_mermaid_png\u001B[49m\u001B[43m(\u001B[49m\u001B[43m)\u001B[49m))\n",
      "\u001B[36mFile \u001B[39m\u001B[32m~/GIT/langgraph-learning/.venv/lib/python3.13/site-packages/langchain_core/runnables/graph.py:704\u001B[39m, in \u001B[36mGraph.draw_mermaid_png\u001B[39m\u001B[34m(self, curve_style, node_colors, wrap_label_n_words, output_file_path, draw_method, background_color, padding, max_retries, retry_delay, frontmatter_config, base_url)\u001B[39m\n\u001B[32m    694\u001B[39m \u001B[38;5;28;01mfrom\u001B[39;00m\u001B[38;5;250m \u001B[39m\u001B[34;01mlangchain_core\u001B[39;00m\u001B[34;01m.\u001B[39;00m\u001B[34;01mrunnables\u001B[39;00m\u001B[34;01m.\u001B[39;00m\u001B[34;01mgraph_mermaid\u001B[39;00m\u001B[38;5;250m \u001B[39m\u001B[38;5;28;01mimport\u001B[39;00m (  \u001B[38;5;66;03m# noqa: PLC0415\u001B[39;00m\n\u001B[32m    695\u001B[39m     draw_mermaid_png,\n\u001B[32m    696\u001B[39m )\n\u001B[32m    698\u001B[39m mermaid_syntax = \u001B[38;5;28mself\u001B[39m.draw_mermaid(\n\u001B[32m    699\u001B[39m     curve_style=curve_style,\n\u001B[32m    700\u001B[39m     node_colors=node_colors,\n\u001B[32m    701\u001B[39m     wrap_label_n_words=wrap_label_n_words,\n\u001B[32m    702\u001B[39m     frontmatter_config=frontmatter_config,\n\u001B[32m    703\u001B[39m )\n\u001B[32m--> \u001B[39m\u001B[32m704\u001B[39m \u001B[38;5;28;01mreturn\u001B[39;00m \u001B[43mdraw_mermaid_png\u001B[49m\u001B[43m(\u001B[49m\n\u001B[32m    705\u001B[39m \u001B[43m    \u001B[49m\u001B[43mmermaid_syntax\u001B[49m\u001B[43m=\u001B[49m\u001B[43mmermaid_syntax\u001B[49m\u001B[43m,\u001B[49m\n\u001B[32m    706\u001B[39m \u001B[43m    \u001B[49m\u001B[43moutput_file_path\u001B[49m\u001B[43m=\u001B[49m\u001B[43moutput_file_path\u001B[49m\u001B[43m,\u001B[49m\n\u001B[32m    707\u001B[39m \u001B[43m    \u001B[49m\u001B[43mdraw_method\u001B[49m\u001B[43m=\u001B[49m\u001B[43mdraw_method\u001B[49m\u001B[43m,\u001B[49m\n\u001B[32m    708\u001B[39m \u001B[43m    \u001B[49m\u001B[43mbackground_color\u001B[49m\u001B[43m=\u001B[49m\u001B[43mbackground_color\u001B[49m\u001B[43m,\u001B[49m\n\u001B[32m    709\u001B[39m \u001B[43m    \u001B[49m\u001B[43mpadding\u001B[49m\u001B[43m=\u001B[49m\u001B[43mpadding\u001B[49m\u001B[43m,\u001B[49m\n\u001B[32m    710\u001B[39m \u001B[43m    \u001B[49m\u001B[43mmax_retries\u001B[49m\u001B[43m=\u001B[49m\u001B[43mmax_retries\u001B[49m\u001B[43m,\u001B[49m\n\u001B[32m    711\u001B[39m \u001B[43m    \u001B[49m\u001B[43mretry_delay\u001B[49m\u001B[43m=\u001B[49m\u001B[43mretry_delay\u001B[49m\u001B[43m,\u001B[49m\n\u001B[32m    712\u001B[39m \u001B[43m    \u001B[49m\u001B[43mbase_url\u001B[49m\u001B[43m=\u001B[49m\u001B[43mbase_url\u001B[49m\u001B[43m,\u001B[49m\n\u001B[32m    713\u001B[39m \u001B[43m\u001B[49m\u001B[43m)\u001B[49m\n",
      "\u001B[36mFile \u001B[39m\u001B[32m~/GIT/langgraph-learning/.venv/lib/python3.13/site-packages/langchain_core/runnables/graph_mermaid.py:322\u001B[39m, in \u001B[36mdraw_mermaid_png\u001B[39m\u001B[34m(mermaid_syntax, output_file_path, draw_method, background_color, padding, max_retries, retry_delay, base_url)\u001B[39m\n\u001B[32m    316\u001B[39m     img_bytes = asyncio.run(\n\u001B[32m    317\u001B[39m         _render_mermaid_using_pyppeteer(\n\u001B[32m    318\u001B[39m             mermaid_syntax, output_file_path, background_color, padding\n\u001B[32m    319\u001B[39m         )\n\u001B[32m    320\u001B[39m     )\n\u001B[32m    321\u001B[39m \u001B[38;5;28;01melif\u001B[39;00m draw_method == MermaidDrawMethod.API:\n\u001B[32m--> \u001B[39m\u001B[32m322\u001B[39m     img_bytes = \u001B[43m_render_mermaid_using_api\u001B[49m\u001B[43m(\u001B[49m\n\u001B[32m    323\u001B[39m \u001B[43m        \u001B[49m\u001B[43mmermaid_syntax\u001B[49m\u001B[43m,\u001B[49m\n\u001B[32m    324\u001B[39m \u001B[43m        \u001B[49m\u001B[43moutput_file_path\u001B[49m\u001B[43m=\u001B[49m\u001B[43moutput_file_path\u001B[49m\u001B[43m,\u001B[49m\n\u001B[32m    325\u001B[39m \u001B[43m        \u001B[49m\u001B[43mbackground_color\u001B[49m\u001B[43m=\u001B[49m\u001B[43mbackground_color\u001B[49m\u001B[43m,\u001B[49m\n\u001B[32m    326\u001B[39m \u001B[43m        \u001B[49m\u001B[43mmax_retries\u001B[49m\u001B[43m=\u001B[49m\u001B[43mmax_retries\u001B[49m\u001B[43m,\u001B[49m\n\u001B[32m    327\u001B[39m \u001B[43m        \u001B[49m\u001B[43mretry_delay\u001B[49m\u001B[43m=\u001B[49m\u001B[43mretry_delay\u001B[49m\u001B[43m,\u001B[49m\n\u001B[32m    328\u001B[39m \u001B[43m        \u001B[49m\u001B[43mbase_url\u001B[49m\u001B[43m=\u001B[49m\u001B[43mbase_url\u001B[49m\u001B[43m,\u001B[49m\n\u001B[32m    329\u001B[39m \u001B[43m    \u001B[49m\u001B[43m)\u001B[49m\n\u001B[32m    330\u001B[39m \u001B[38;5;28;01melse\u001B[39;00m:\n\u001B[32m    331\u001B[39m     supported_methods = \u001B[33m\"\u001B[39m\u001B[33m, \u001B[39m\u001B[33m\"\u001B[39m.join([m.value \u001B[38;5;28;01mfor\u001B[39;00m m \u001B[38;5;129;01min\u001B[39;00m MermaidDrawMethod])\n",
      "\u001B[36mFile \u001B[39m\u001B[32m~/GIT/langgraph-learning/.venv/lib/python3.13/site-packages/langchain_core/runnables/graph_mermaid.py:480\u001B[39m, in \u001B[36m_render_mermaid_using_api\u001B[39m\u001B[34m(mermaid_syntax, output_file_path, background_color, file_type, max_retries, retry_delay, base_url)\u001B[39m\n\u001B[32m    475\u001B[39m     \u001B[38;5;66;03m# For other status codes, fail immediately\u001B[39;00m\n\u001B[32m    476\u001B[39m     msg = (\n\u001B[32m    477\u001B[39m         \u001B[33mf\u001B[39m\u001B[33m\"\u001B[39m\u001B[33mFailed to reach \u001B[39m\u001B[38;5;132;01m{\u001B[39;00mbase_url\u001B[38;5;132;01m}\u001B[39;00m\u001B[33m API while trying to render \u001B[39m\u001B[33m\"\u001B[39m\n\u001B[32m    478\u001B[39m         \u001B[33mf\u001B[39m\u001B[33m\"\u001B[39m\u001B[33myour graph. Status code: \u001B[39m\u001B[38;5;132;01m{\u001B[39;00mresponse.status_code\u001B[38;5;132;01m}\u001B[39;00m\u001B[33m.\u001B[39m\u001B[38;5;130;01m\\n\u001B[39;00m\u001B[38;5;130;01m\\n\u001B[39;00m\u001B[33m\"\u001B[39m\n\u001B[32m    479\u001B[39m     ) + error_msg_suffix\n\u001B[32m--> \u001B[39m\u001B[32m480\u001B[39m     \u001B[38;5;28;01mraise\u001B[39;00m \u001B[38;5;167;01mValueError\u001B[39;00m(msg)\n\u001B[32m    482\u001B[39m \u001B[38;5;28;01mexcept\u001B[39;00m (requests.RequestException, requests.Timeout) \u001B[38;5;28;01mas\u001B[39;00m e:\n\u001B[32m    483\u001B[39m     \u001B[38;5;28;01mif\u001B[39;00m attempt < max_retries:\n\u001B[32m    484\u001B[39m         \u001B[38;5;66;03m# Exponential backoff with jitter\u001B[39;00m\n",
      "\u001B[31mValueError\u001B[39m: Failed to reach https://mermaid.ink API while trying to render your graph. Status code: 400.\n\nTo resolve this issue:\n1. Check your internet connection and try again\n2. Try with higher retry settings: `draw_mermaid_png(..., max_retries=5, retry_delay=2.0)`\n3. Use the Pyppeteer rendering method which will render your graph locally in a browser: `draw_mermaid_png(..., draw_method=MermaidDrawMethod.PYPPETEER)`"
     ]
    }
   ],
   "execution_count": 21
  },
  {
   "metadata": {
    "ExecuteTime": {
     "end_time": "2025-10-10T21:48:19.413471Z",
     "start_time": "2025-10-10T21:48:18.788184Z"
    }
   },
   "cell_type": "code",
   "source": [
    "state = graph.invoke({\"messages\": [{\"role\": \"user\", \"content\": \"What is the price of AAPL stock right now?\"}]})\n",
    "print(state[\"messages\"][-1].content)"
   ],
   "id": "bd893a70fcd4dbf4",
   "outputs": [
    {
     "name": "stdout",
     "output_type": "stream",
     "text": [
      "100.4\n"
     ]
    }
   ],
   "execution_count": 20
  },
  {
   "metadata": {},
   "cell_type": "code",
   "outputs": [],
   "execution_count": null,
   "source": [
    "state = graph.invoke({\"messages\": [{\"role\": \"user\", \"content\": \"Who invented theory of relativity? print person name only\"}]})\n",
    "print(state[\"messages\"][-1].content)"
   ],
   "id": "1f8e712a6357c6f3"
  },
  {
   "metadata": {
    "ExecuteTime": {
     "end_time": "2025-10-10T21:55:09.882546Z",
     "start_time": "2025-10-10T21:55:09.302787Z"
    }
   },
   "cell_type": "code",
   "source": [
    "msg = \"I want to buy 20 AMZN stocks using current price. Then 15 MSFT. What will be the total cost?\"\n",
    "\n",
    "state = graph.invoke({\"messages\": [{\"role\": \"user\", \"content\": msg}]})\n",
    "print(state[\"messages\"][-1].content)"
   ],
   "id": "4db21f9fffd31efa",
   "outputs": [
    {
     "name": "stdout",
     "output_type": "stream",
     "text": [
      "200.3\n"
     ]
    }
   ],
   "execution_count": 22
  }
 ],
 "metadata": {
  "kernelspec": {
   "display_name": "Python 3",
   "language": "python",
   "name": "python3"
  },
  "language_info": {
   "codemirror_mode": {
    "name": "ipython",
    "version": 2
   },
   "file_extension": ".py",
   "mimetype": "text/x-python",
   "name": "python",
   "nbconvert_exporter": "python",
   "pygments_lexer": "ipython2",
   "version": "2.7.6"
  }
 },
 "nbformat": 4,
 "nbformat_minor": 5
}
